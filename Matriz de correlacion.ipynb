{
 "cells": [
  {
   "cell_type": "code",
   "execution_count": 6,
   "metadata": {},
   "outputs": [
    {
     "data": {
      "text/plain": [
       "Index(['Unnamed: 0', 'name', 'year', 'selling_price', 'km_driven', 'fuel',\n",
       "       'seller_type', 'transmission', 'owner', 'seats', 'max_power (in bph)',\n",
       "       'Mileage Unit', 'Mileage', 'Engine (CC)'],\n",
       "      dtype='object')"
      ]
     },
     "execution_count": 6,
     "metadata": {},
     "output_type": "execute_result"
    }
   ],
   "source": [
    "import pandas as pd\n",
    "import seaborn as sns\n",
    "\n",
    "data = pd.read_csv(\"C:\\\\Users\\\\RODRIGO\\Downloads\\\\archive (1)\\\\processes2.csv\")\n",
    "df = pd.DataFrame(data)\n",
    "\n",
    "df.columns"
   ]
  },
  {
   "cell_type": "code",
   "execution_count": 35,
   "metadata": {},
   "outputs": [
    {
     "data": {
      "text/html": [
       "<div>\n",
       "<style scoped>\n",
       "    .dataframe tbody tr th:only-of-type {\n",
       "        vertical-align: middle;\n",
       "    }\n",
       "\n",
       "    .dataframe tbody tr th {\n",
       "        vertical-align: top;\n",
       "    }\n",
       "\n",
       "    .dataframe thead th {\n",
       "        text-align: right;\n",
       "    }\n",
       "</style>\n",
       "<table border=\"1\" class=\"dataframe\">\n",
       "  <thead>\n",
       "    <tr style=\"text-align: right;\">\n",
       "      <th></th>\n",
       "      <th>year</th>\n",
       "      <th>selling_price</th>\n",
       "      <th>km_driven</th>\n",
       "      <th>seats</th>\n",
       "      <th>max_power (in bph)</th>\n",
       "      <th>Mileage</th>\n",
       "      <th>Engine (CC)</th>\n",
       "    </tr>\n",
       "  </thead>\n",
       "  <tbody>\n",
       "    <tr>\n",
       "      <th>0</th>\n",
       "      <td>2014</td>\n",
       "      <td>450000</td>\n",
       "      <td>145500</td>\n",
       "      <td>5</td>\n",
       "      <td>74.00</td>\n",
       "      <td>23.40</td>\n",
       "      <td>1248</td>\n",
       "    </tr>\n",
       "    <tr>\n",
       "      <th>1</th>\n",
       "      <td>2010</td>\n",
       "      <td>225000</td>\n",
       "      <td>127000</td>\n",
       "      <td>5</td>\n",
       "      <td>90.00</td>\n",
       "      <td>23.00</td>\n",
       "      <td>1396</td>\n",
       "    </tr>\n",
       "    <tr>\n",
       "      <th>2</th>\n",
       "      <td>2017</td>\n",
       "      <td>440000</td>\n",
       "      <td>45000</td>\n",
       "      <td>5</td>\n",
       "      <td>81.86</td>\n",
       "      <td>20.14</td>\n",
       "      <td>1197</td>\n",
       "    </tr>\n",
       "    <tr>\n",
       "      <th>3</th>\n",
       "      <td>2011</td>\n",
       "      <td>350000</td>\n",
       "      <td>90000</td>\n",
       "      <td>5</td>\n",
       "      <td>67.10</td>\n",
       "      <td>23.59</td>\n",
       "      <td>1364</td>\n",
       "    </tr>\n",
       "    <tr>\n",
       "      <th>4</th>\n",
       "      <td>2013</td>\n",
       "      <td>200000</td>\n",
       "      <td>169000</td>\n",
       "      <td>5</td>\n",
       "      <td>68.10</td>\n",
       "      <td>20.00</td>\n",
       "      <td>1399</td>\n",
       "    </tr>\n",
       "    <tr>\n",
       "      <th>...</th>\n",
       "      <td>...</td>\n",
       "      <td>...</td>\n",
       "      <td>...</td>\n",
       "      <td>...</td>\n",
       "      <td>...</td>\n",
       "      <td>...</td>\n",
       "      <td>...</td>\n",
       "    </tr>\n",
       "    <tr>\n",
       "      <th>2090</th>\n",
       "      <td>2017</td>\n",
       "      <td>425000</td>\n",
       "      <td>12000</td>\n",
       "      <td>5</td>\n",
       "      <td>67.04</td>\n",
       "      <td>23.10</td>\n",
       "      <td>998</td>\n",
       "    </tr>\n",
       "    <tr>\n",
       "      <th>2091</th>\n",
       "      <td>2014</td>\n",
       "      <td>425000</td>\n",
       "      <td>50000</td>\n",
       "      <td>5</td>\n",
       "      <td>67.06</td>\n",
       "      <td>23.59</td>\n",
       "      <td>1364</td>\n",
       "    </tr>\n",
       "    <tr>\n",
       "      <th>2092</th>\n",
       "      <td>2011</td>\n",
       "      <td>200000</td>\n",
       "      <td>73000</td>\n",
       "      <td>5</td>\n",
       "      <td>46.30</td>\n",
       "      <td>19.70</td>\n",
       "      <td>796</td>\n",
       "    </tr>\n",
       "    <tr>\n",
       "      <th>2093</th>\n",
       "      <td>2017</td>\n",
       "      <td>360000</td>\n",
       "      <td>80000</td>\n",
       "      <td>5</td>\n",
       "      <td>67.04</td>\n",
       "      <td>20.51</td>\n",
       "      <td>998</td>\n",
       "    </tr>\n",
       "    <tr>\n",
       "      <th>2094</th>\n",
       "      <td>2014</td>\n",
       "      <td>475000</td>\n",
       "      <td>80000</td>\n",
       "      <td>5</td>\n",
       "      <td>88.73</td>\n",
       "      <td>22.54</td>\n",
       "      <td>1396</td>\n",
       "    </tr>\n",
       "  </tbody>\n",
       "</table>\n",
       "<p>2095 rows × 7 columns</p>\n",
       "</div>"
      ],
      "text/plain": [
       "      year  selling_price  km_driven  seats  max_power (in bph)  Mileage  \\\n",
       "0     2014         450000     145500      5               74.00    23.40   \n",
       "1     2010         225000     127000      5               90.00    23.00   \n",
       "2     2017         440000      45000      5               81.86    20.14   \n",
       "3     2011         350000      90000      5               67.10    23.59   \n",
       "4     2013         200000     169000      5               68.10    20.00   \n",
       "...    ...            ...        ...    ...                 ...      ...   \n",
       "2090  2017         425000      12000      5               67.04    23.10   \n",
       "2091  2014         425000      50000      5               67.06    23.59   \n",
       "2092  2011         200000      73000      5               46.30    19.70   \n",
       "2093  2017         360000      80000      5               67.04    20.51   \n",
       "2094  2014         475000      80000      5               88.73    22.54   \n",
       "\n",
       "      Engine (CC)  \n",
       "0            1248  \n",
       "1            1396  \n",
       "2            1197  \n",
       "3            1364  \n",
       "4            1399  \n",
       "...           ...  \n",
       "2090          998  \n",
       "2091         1364  \n",
       "2092          796  \n",
       "2093          998  \n",
       "2094         1396  \n",
       "\n",
       "[2095 rows x 7 columns]"
      ]
     },
     "execution_count": 35,
     "metadata": {},
     "output_type": "execute_result"
    }
   ],
   "source": [
    "dataset = df.select_dtypes(include=['float64', 'int64'])\n",
    "dataset = dataset.drop('Unnamed: 0', axis=1)\n",
    "\n",
    "dataset"
   ]
  },
  {
   "cell_type": "code",
   "execution_count": 38,
   "metadata": {},
   "outputs": [
    {
     "data": {
      "text/html": [
       "<div>\n",
       "<style scoped>\n",
       "    .dataframe tbody tr th:only-of-type {\n",
       "        vertical-align: middle;\n",
       "    }\n",
       "\n",
       "    .dataframe tbody tr th {\n",
       "        vertical-align: top;\n",
       "    }\n",
       "\n",
       "    .dataframe thead th {\n",
       "        text-align: right;\n",
       "    }\n",
       "</style>\n",
       "<table border=\"1\" class=\"dataframe\">\n",
       "  <thead>\n",
       "    <tr style=\"text-align: right;\">\n",
       "      <th></th>\n",
       "      <th>year</th>\n",
       "      <th>selling_price</th>\n",
       "      <th>km_driven</th>\n",
       "      <th>seats</th>\n",
       "      <th>max_power (in bph)</th>\n",
       "      <th>Mileage</th>\n",
       "      <th>Engine (CC)</th>\n",
       "    </tr>\n",
       "  </thead>\n",
       "  <tbody>\n",
       "    <tr>\n",
       "      <th>year</th>\n",
       "      <td>1.000000</td>\n",
       "      <td>0.669213</td>\n",
       "      <td>-0.469055</td>\n",
       "      <td>0.009686</td>\n",
       "      <td>0.293524</td>\n",
       "      <td>0.251596</td>\n",
       "      <td>0.185846</td>\n",
       "    </tr>\n",
       "    <tr>\n",
       "      <th>selling_price</th>\n",
       "      <td>0.669213</td>\n",
       "      <td>1.000000</td>\n",
       "      <td>-0.239156</td>\n",
       "      <td>0.137711</td>\n",
       "      <td>0.677668</td>\n",
       "      <td>0.179155</td>\n",
       "      <td>0.568887</td>\n",
       "    </tr>\n",
       "    <tr>\n",
       "      <th>km_driven</th>\n",
       "      <td>-0.469055</td>\n",
       "      <td>-0.239156</td>\n",
       "      <td>1.000000</td>\n",
       "      <td>0.066014</td>\n",
       "      <td>0.090387</td>\n",
       "      <td>0.062393</td>\n",
       "      <td>0.250732</td>\n",
       "    </tr>\n",
       "    <tr>\n",
       "      <th>seats</th>\n",
       "      <td>0.009686</td>\n",
       "      <td>0.137711</td>\n",
       "      <td>0.066014</td>\n",
       "      <td>1.000000</td>\n",
       "      <td>0.054139</td>\n",
       "      <td>-0.105186</td>\n",
       "      <td>0.034715</td>\n",
       "    </tr>\n",
       "    <tr>\n",
       "      <th>max_power (in bph)</th>\n",
       "      <td>0.293524</td>\n",
       "      <td>0.677668</td>\n",
       "      <td>0.090387</td>\n",
       "      <td>0.054139</td>\n",
       "      <td>1.000000</td>\n",
       "      <td>0.135230</td>\n",
       "      <td>0.850453</td>\n",
       "    </tr>\n",
       "    <tr>\n",
       "      <th>Mileage</th>\n",
       "      <td>0.251596</td>\n",
       "      <td>0.179155</td>\n",
       "      <td>0.062393</td>\n",
       "      <td>-0.105186</td>\n",
       "      <td>0.135230</td>\n",
       "      <td>1.000000</td>\n",
       "      <td>0.215813</td>\n",
       "    </tr>\n",
       "    <tr>\n",
       "      <th>Engine (CC)</th>\n",
       "      <td>0.185846</td>\n",
       "      <td>0.568887</td>\n",
       "      <td>0.250732</td>\n",
       "      <td>0.034715</td>\n",
       "      <td>0.850453</td>\n",
       "      <td>0.215813</td>\n",
       "      <td>1.000000</td>\n",
       "    </tr>\n",
       "  </tbody>\n",
       "</table>\n",
       "</div>"
      ],
      "text/plain": [
       "                        year  selling_price  km_driven     seats  \\\n",
       "year                1.000000       0.669213  -0.469055  0.009686   \n",
       "selling_price       0.669213       1.000000  -0.239156  0.137711   \n",
       "km_driven          -0.469055      -0.239156   1.000000  0.066014   \n",
       "seats               0.009686       0.137711   0.066014  1.000000   \n",
       "max_power (in bph)  0.293524       0.677668   0.090387  0.054139   \n",
       "Mileage             0.251596       0.179155   0.062393 -0.105186   \n",
       "Engine (CC)         0.185846       0.568887   0.250732  0.034715   \n",
       "\n",
       "                    max_power (in bph)   Mileage  Engine (CC)  \n",
       "year                          0.293524  0.251596     0.185846  \n",
       "selling_price                 0.677668  0.179155     0.568887  \n",
       "km_driven                     0.090387  0.062393     0.250732  \n",
       "seats                         0.054139 -0.105186     0.034715  \n",
       "max_power (in bph)            1.000000  0.135230     0.850453  \n",
       "Mileage                       0.135230  1.000000     0.215813  \n",
       "Engine (CC)                   0.850453  0.215813     1.000000  "
      ]
     },
     "execution_count": 38,
     "metadata": {},
     "output_type": "execute_result"
    }
   ],
   "source": [
    "person = dataset.corr()\n",
    "person"
   ]
  },
  {
   "cell_type": "code",
   "execution_count": 46,
   "metadata": {},
   "outputs": [
    {
     "data": {
      "text/plain": [
       "<Axes: >"
      ]
     },
     "execution_count": 46,
     "metadata": {},
     "output_type": "execute_result"
    },
    {
     "data": {
      "image/png": "[encoded data removed]",
      "text/plain": [
       "<Figure size 640x480 with 2 Axes>"
      ]
     },
     "metadata": {},
     "output_type": "display_data"
    }
   ],
   "source": [
    "sns.heatmap(pearson)"
   ]
  },
  {
   "cell_type": "code",
   "execution_count": 45,
   "metadata": {},
   "outputs": [
    {
     "data": {
      "text/plain": [
       "<Axes: xlabel='Engine (CC)', ylabel='selling_price'>"
      ]
     },
     "execution_count": 45,
     "metadata": {},
     "output_type": "execute_result"
    },
    {
     "data": {
      "image/png": "[encoded data removed]",
      "text/plain": [
       "<Figure size 640x480 with 1 Axes>"
      ]
     },
     "metadata": {},
     "output_type": "display_data"
    }
   ],
   "source": [
    "sns.scatterplot(data=person, x='Engine (CC)', y='selling_price')"
   ]
  }
 ],
 "metadata": {
  "kernelspec": {
   "display_name": "Python 3",
   "language": "python",
   "name": "python3"
  },
  "language_info": {
   "codemirror_mode": {
    "name": "ipython",
    "version": 3
   },
   "file_extension": ".py",
   "mimetype": "text/x-python",
   "name": "python",
   "nbconvert_exporter": "python",
   "pygments_lexer": "ipython3",
   "version": "3.11.0"
  }
 },
 "nbformat": 4,
 "nbformat_minor": 2
}
